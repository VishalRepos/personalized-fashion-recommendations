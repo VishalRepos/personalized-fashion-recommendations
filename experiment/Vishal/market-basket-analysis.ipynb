{
 "cells": [
  {
   "cell_type": "markdown",
   "id": "620b8fa9",
   "metadata": {
    "papermill": {
     "duration": 0.032442,
     "end_time": "2023-11-26T07:46:05.577116",
     "exception": false,
     "start_time": "2023-11-26T07:46:05.544674",
     "status": "completed"
    },
    "tags": []
   },
   "source": [
    "# Market Basket Analysis - Recommend Items Frequently Purchased Together\n",
    "This notebook demonstrates how recommending items that are frequently purchased together is effective.This notebook's strategy is as follows:\n",
    "* recommend items previously purchased\n",
    "* recommend items that are bought together with previous purchases\n",
    "* recommend popular items"
   ]
  },
  {
   "cell_type": "code",
   "execution_count": 1,
   "id": "efa52d8f",
   "metadata": {
    "execution": {
     "iopub.execute_input": "2023-11-26T07:46:05.654476Z",
     "iopub.status.busy": "2023-11-26T07:46:05.653878Z",
     "iopub.status.idle": "2023-11-26T07:46:09.042142Z",
     "shell.execute_reply": "2023-11-26T07:46:09.041322Z",
     "shell.execute_reply.started": "2023-11-26T07:23:36.039822Z"
    },
    "papermill": {
     "duration": 3.428213,
     "end_time": "2023-11-26T07:46:09.042318",
     "exception": false,
     "start_time": "2023-11-26T07:46:05.614105",
     "status": "completed"
    },
    "tags": []
   },
   "outputs": [
    {
     "name": "stdout",
     "output_type": "stream",
     "text": [
      "RAPIDS version 21.10.01\n"
     ]
    }
   ],
   "source": [
    "import cudf\n",
    "import pandas as pd\n",
    "import gc\n",
    "\n",
    "print('RAPIDS version',cudf.__version__)"
   ]
  },
  {
   "cell_type": "markdown",
   "id": "e771221c",
   "metadata": {
    "papermill": {
     "duration": 0.028174,
     "end_time": "2023-11-26T07:46:09.098980",
     "exception": false,
     "start_time": "2023-11-26T07:46:09.070806",
     "status": "completed"
    },
    "tags": []
   },
   "source": [
    "# Load Transactions, Reduce Memory\n"
   ]
  },
  {
   "cell_type": "code",
   "execution_count": 2,
   "id": "ef736db6",
   "metadata": {
    "execution": {
     "iopub.execute_input": "2023-11-26T07:46:09.161593Z",
     "iopub.status.busy": "2023-11-26T07:46:09.160930Z",
     "iopub.status.idle": "2023-11-26T07:46:47.896128Z",
     "shell.execute_reply": "2023-11-26T07:46:47.895605Z",
     "shell.execute_reply.started": "2023-11-26T07:23:36.047168Z"
    },
    "papermill": {
     "duration": 38.769706,
     "end_time": "2023-11-26T07:46:47.896256",
     "exception": false,
     "start_time": "2023-11-26T07:46:09.126550",
     "status": "completed"
    },
    "tags": []
   },
   "outputs": [
    {
     "name": "stdout",
     "output_type": "stream",
     "text": [
      "(31788324, 3)\n"
     ]
    },
    {
     "data": {
      "text/html": [
       "<div>\n",
       "<style scoped>\n",
       "    .dataframe tbody tr th:only-of-type {\n",
       "        vertical-align: middle;\n",
       "    }\n",
       "\n",
       "    .dataframe tbody tr th {\n",
       "        vertical-align: top;\n",
       "    }\n",
       "\n",
       "    .dataframe thead th {\n",
       "        text-align: right;\n",
       "    }\n",
       "</style>\n",
       "<table border=\"1\" class=\"dataframe\">\n",
       "  <thead>\n",
       "    <tr style=\"text-align: right;\">\n",
       "      <th></th>\n",
       "      <th>t_dat</th>\n",
       "      <th>customer_id</th>\n",
       "      <th>article_id</th>\n",
       "    </tr>\n",
       "  </thead>\n",
       "  <tbody>\n",
       "    <tr>\n",
       "      <th>0</th>\n",
       "      <td>2018-09-20</td>\n",
       "      <td>-6846340800584936</td>\n",
       "      <td>663713001</td>\n",
       "    </tr>\n",
       "    <tr>\n",
       "      <th>1</th>\n",
       "      <td>2018-09-20</td>\n",
       "      <td>-6846340800584936</td>\n",
       "      <td>541518023</td>\n",
       "    </tr>\n",
       "    <tr>\n",
       "      <th>2</th>\n",
       "      <td>2018-09-20</td>\n",
       "      <td>-8334631767138808638</td>\n",
       "      <td>505221004</td>\n",
       "    </tr>\n",
       "    <tr>\n",
       "      <th>3</th>\n",
       "      <td>2018-09-20</td>\n",
       "      <td>-8334631767138808638</td>\n",
       "      <td>685687003</td>\n",
       "    </tr>\n",
       "    <tr>\n",
       "      <th>4</th>\n",
       "      <td>2018-09-20</td>\n",
       "      <td>-8334631767138808638</td>\n",
       "      <td>685687004</td>\n",
       "    </tr>\n",
       "  </tbody>\n",
       "</table>\n",
       "</div>"
      ],
      "text/plain": [
       "       t_dat          customer_id  article_id\n",
       "0 2018-09-20    -6846340800584936   663713001\n",
       "1 2018-09-20    -6846340800584936   541518023\n",
       "2 2018-09-20 -8334631767138808638   505221004\n",
       "3 2018-09-20 -8334631767138808638   685687003\n",
       "4 2018-09-20 -8334631767138808638   685687004"
      ]
     },
     "execution_count": 2,
     "metadata": {},
     "output_type": "execute_result"
    }
   ],
   "source": [
    "# Read the CSV file into a cuDF DataFrame\n",
    "train = cudf.read_csv('../input/h-and-m-personalized-fashion-recommendations/transactions_train.csv')\n",
    "\n",
    "# Convert the last 16 characters of 'customer_id' to hexadecimal and then to an integer\n",
    "train['customer_id'] = train['customer_id'].str[-16:].str.hex_to_int().astype('int64')\n",
    "\n",
    "# Convert 'article_id' to integer with 32 bits precision\n",
    "train['article_id'] = train['article_id'].astype('int32')\n",
    "\n",
    "# Convert 't_dat' column to datetime\n",
    "train['t_dat'] = cudf.to_datetime(train['t_dat'])\n",
    "\n",
    "# Select specific columns in the desired order\n",
    "train = train[['t_dat', 'customer_id', 'article_id']]\n",
    "\n",
    "# Save the cuDF DataFrame to a Parquet file\n",
    "train.to_parquet('train.pqt', index=False)\n",
    "\n",
    "# Print the shape of the DataFrame and display the first few rows\n",
    "print(train.shape)\n",
    "train.head()\n"
   ]
  },
  {
   "cell_type": "code",
   "execution_count": 3,
   "id": "3008b58b",
   "metadata": {
    "execution": {
     "iopub.execute_input": "2023-11-26T07:46:47.963042Z",
     "iopub.status.busy": "2023-11-26T07:46:47.962422Z",
     "iopub.status.idle": "2023-11-26T07:46:48.140405Z",
     "shell.execute_reply": "2023-11-26T07:46:48.139775Z",
     "shell.execute_reply.started": "2023-11-26T07:23:39.546450Z"
    },
    "papermill": {
     "duration": 0.213571,
     "end_time": "2023-11-26T07:46:48.140554",
     "exception": false,
     "start_time": "2023-11-26T07:46:47.926983",
     "status": "completed"
    },
    "tags": []
   },
   "outputs": [
    {
     "name": "stdout",
     "output_type": "stream",
     "text": [
      "Train shape: (5181535, 5)\n"
     ]
    }
   ],
   "source": [
    "# Group by 'customer_id' and find the maximum date ('t_dat') for each customer\n",
    "tmp = train.groupby('customer_id')['t_dat'].max().reset_index()\n",
    "tmp.columns = ['customer_id', 'max_dat']\n",
    "\n",
    "# Merge the temporary DataFrame back into the original DataFrame based on 'customer_id'\n",
    "train = train.merge(tmp, on=['customer_id'], how='left')\n",
    "\n",
    "# Calculate the difference in days between 'max_dat' and 't_dat'\n",
    "train['diff_dat'] = (train['max_dat'] - train['t_dat']).dt.days\n",
    "\n",
    "# Keep only the rows where the difference is less than or equal to 6\n",
    "train = train.loc[train['diff_dat'] <= 6]\n",
    "\n",
    "# Print the shape of the resulting DataFrame\n",
    "print('Train shape:', train.shape)\n"
   ]
  },
  {
   "cell_type": "markdown",
   "id": "92532ef7",
   "metadata": {
    "papermill": {
     "duration": 0.028827,
     "end_time": "2023-11-26T07:46:48.198442",
     "exception": false,
     "start_time": "2023-11-26T07:46:48.169615",
     "status": "completed"
    },
    "tags": []
   },
   "source": [
    "* # Apriori Transformation:\n"
   ]
  },
  {
   "cell_type": "code",
   "execution_count": 4,
   "id": "77b07bd0",
   "metadata": {
    "execution": {
     "iopub.execute_input": "2023-11-26T07:46:48.261650Z",
     "iopub.status.busy": "2023-11-26T07:46:48.260991Z",
     "iopub.status.idle": "2023-11-26T07:46:48.348068Z",
     "shell.execute_reply": "2023-11-26T07:46:48.347508Z",
     "shell.execute_reply.started": "2023-11-26T07:23:39.711318Z"
    },
    "papermill": {
     "duration": 0.120923,
     "end_time": "2023-11-26T07:46:48.348200",
     "exception": false,
     "start_time": "2023-11-26T07:46:48.227277",
     "status": "completed"
    },
    "tags": []
   },
   "outputs": [
    {
     "data": {
      "text/html": [
       "<div>\n",
       "<style scoped>\n",
       "    .dataframe tbody tr th:only-of-type {\n",
       "        vertical-align: middle;\n",
       "    }\n",
       "\n",
       "    .dataframe tbody tr th {\n",
       "        vertical-align: top;\n",
       "    }\n",
       "\n",
       "    .dataframe thead th {\n",
       "        text-align: right;\n",
       "    }\n",
       "</style>\n",
       "<table border=\"1\" class=\"dataframe\">\n",
       "  <thead>\n",
       "    <tr style=\"text-align: right;\">\n",
       "      <th></th>\n",
       "      <th>t_dat</th>\n",
       "      <th>customer_id</th>\n",
       "      <th>article_id</th>\n",
       "      <th>max_dat</th>\n",
       "      <th>diff_dat</th>\n",
       "    </tr>\n",
       "  </thead>\n",
       "  <tbody>\n",
       "    <tr>\n",
       "      <th>31520960</th>\n",
       "      <td>2020-09-16</td>\n",
       "      <td>825696797860015377</td>\n",
       "      <td>874754016</td>\n",
       "      <td>2020-09-16</td>\n",
       "      <td>0</td>\n",
       "    </tr>\n",
       "    <tr>\n",
       "      <th>31520961</th>\n",
       "      <td>2020-09-16</td>\n",
       "      <td>825696797860015377</td>\n",
       "      <td>874754002</td>\n",
       "      <td>2020-09-16</td>\n",
       "      <td>0</td>\n",
       "    </tr>\n",
       "    <tr>\n",
       "      <th>31520962</th>\n",
       "      <td>2020-09-16</td>\n",
       "      <td>825696797860015377</td>\n",
       "      <td>935694002</td>\n",
       "      <td>2020-09-16</td>\n",
       "      <td>0</td>\n",
       "    </tr>\n",
       "    <tr>\n",
       "      <th>31520963</th>\n",
       "      <td>2020-09-16</td>\n",
       "      <td>-2424921637038555937</td>\n",
       "      <td>751567009</td>\n",
       "      <td>2020-09-16</td>\n",
       "      <td>0</td>\n",
       "    </tr>\n",
       "    <tr>\n",
       "      <th>31520964</th>\n",
       "      <td>2020-09-16</td>\n",
       "      <td>825696797860015377</td>\n",
       "      <td>717490075</td>\n",
       "      <td>2020-09-16</td>\n",
       "      <td>0</td>\n",
       "    </tr>\n",
       "    <tr>\n",
       "      <th>...</th>\n",
       "      <td>...</td>\n",
       "      <td>...</td>\n",
       "      <td>...</td>\n",
       "      <td>...</td>\n",
       "      <td>...</td>\n",
       "    </tr>\n",
       "    <tr>\n",
       "      <th>31788319</th>\n",
       "      <td>2020-09-22</td>\n",
       "      <td>5776383470964371557</td>\n",
       "      <td>573085057</td>\n",
       "      <td>2020-09-22</td>\n",
       "      <td>0</td>\n",
       "    </tr>\n",
       "    <tr>\n",
       "      <th>31788320</th>\n",
       "      <td>2020-09-22</td>\n",
       "      <td>8705515275876785235</td>\n",
       "      <td>890074001</td>\n",
       "      <td>2020-09-22</td>\n",
       "      <td>0</td>\n",
       "    </tr>\n",
       "    <tr>\n",
       "      <th>31788321</th>\n",
       "      <td>2020-09-22</td>\n",
       "      <td>-731468567251345846</td>\n",
       "      <td>868879003</td>\n",
       "      <td>2020-09-22</td>\n",
       "      <td>0</td>\n",
       "    </tr>\n",
       "    <tr>\n",
       "      <th>31788322</th>\n",
       "      <td>2020-09-22</td>\n",
       "      <td>8705515275876785235</td>\n",
       "      <td>886566001</td>\n",
       "      <td>2020-09-22</td>\n",
       "      <td>0</td>\n",
       "    </tr>\n",
       "    <tr>\n",
       "      <th>31788323</th>\n",
       "      <td>2020-09-22</td>\n",
       "      <td>8281712822250020254</td>\n",
       "      <td>855706009</td>\n",
       "      <td>2020-09-22</td>\n",
       "      <td>0</td>\n",
       "    </tr>\n",
       "  </tbody>\n",
       "</table>\n",
       "<p>240311 rows × 5 columns</p>\n",
       "</div>"
      ],
      "text/plain": [
       "              t_dat          customer_id  article_id    max_dat  diff_dat\n",
       "31520960 2020-09-16   825696797860015377   874754016 2020-09-16         0\n",
       "31520961 2020-09-16   825696797860015377   874754002 2020-09-16         0\n",
       "31520962 2020-09-16   825696797860015377   935694002 2020-09-16         0\n",
       "31520963 2020-09-16 -2424921637038555937   751567009 2020-09-16         0\n",
       "31520964 2020-09-16   825696797860015377   717490075 2020-09-16         0\n",
       "...             ...                  ...         ...        ...       ...\n",
       "31788319 2020-09-22  5776383470964371557   573085057 2020-09-22         0\n",
       "31788320 2020-09-22  8705515275876785235   890074001 2020-09-22         0\n",
       "31788321 2020-09-22  -731468567251345846   868879003 2020-09-22         0\n",
       "31788322 2020-09-22  8705515275876785235   886566001 2020-09-22         0\n",
       "31788323 2020-09-22  8281712822250020254   855706009 2020-09-22         0\n",
       "\n",
       "[240311 rows x 5 columns]"
      ]
     },
     "execution_count": 4,
     "metadata": {},
     "output_type": "execute_result"
    }
   ],
   "source": [
    "#train\n",
    "train = train.loc[train.t_dat >= cudf.to_datetime('2020-09-16')]\n",
    "train"
   ]
  },
  {
   "cell_type": "code",
   "execution_count": 5,
   "id": "9c4d7a09",
   "metadata": {
    "execution": {
     "iopub.execute_input": "2023-11-26T07:46:48.411769Z",
     "iopub.status.busy": "2023-11-26T07:46:48.411142Z",
     "iopub.status.idle": "2023-11-26T07:46:48.491129Z",
     "shell.execute_reply": "2023-11-26T07:46:48.490522Z",
     "shell.execute_reply.started": "2023-11-26T07:23:39.805538Z"
    },
    "papermill": {
     "duration": 0.113442,
     "end_time": "2023-11-26T07:46:48.491252",
     "exception": false,
     "start_time": "2023-11-26T07:46:48.377810",
     "status": "completed"
    },
    "tags": []
   },
   "outputs": [
    {
     "data": {
      "text/html": [
       "<div>\n",
       "<style scoped>\n",
       "    .dataframe tbody tr th:only-of-type {\n",
       "        vertical-align: middle;\n",
       "    }\n",
       "\n",
       "    .dataframe tbody tr th {\n",
       "        vertical-align: top;\n",
       "    }\n",
       "\n",
       "    .dataframe thead th {\n",
       "        text-align: right;\n",
       "    }\n",
       "</style>\n",
       "<table border=\"1\" class=\"dataframe\">\n",
       "  <thead>\n",
       "    <tr style=\"text-align: right;\">\n",
       "      <th></th>\n",
       "      <th>customer_id</th>\n",
       "      <th>article_id</th>\n",
       "    </tr>\n",
       "  </thead>\n",
       "  <tbody>\n",
       "    <tr>\n",
       "      <th>0</th>\n",
       "      <td>-9223100958908512198</td>\n",
       "      <td>[673677024, 673677027, 785034009]</td>\n",
       "    </tr>\n",
       "    <tr>\n",
       "      <th>1</th>\n",
       "      <td>-9223002534477110135</td>\n",
       "      <td>[793699001]</td>\n",
       "    </tr>\n",
       "    <tr>\n",
       "      <th>2</th>\n",
       "      <td>-9222810895170663723</td>\n",
       "      <td>[892309001, 903306004]</td>\n",
       "    </tr>\n",
       "    <tr>\n",
       "      <th>3</th>\n",
       "      <td>-9221924794303263774</td>\n",
       "      <td>[708138013, 888343003, 892857002]</td>\n",
       "    </tr>\n",
       "    <tr>\n",
       "      <th>4</th>\n",
       "      <td>-9221811157628158522</td>\n",
       "      <td>[891663002]</td>\n",
       "    </tr>\n",
       "    <tr>\n",
       "      <th>...</th>\n",
       "      <td>...</td>\n",
       "      <td>...</td>\n",
       "    </tr>\n",
       "    <tr>\n",
       "      <th>68979</th>\n",
       "      <td>9221607025486275188</td>\n",
       "      <td>[699755071, 699755081, 751994003]</td>\n",
       "    </tr>\n",
       "    <tr>\n",
       "      <th>68980</th>\n",
       "      <td>9221813808370389952</td>\n",
       "      <td>[562245099, 865929002, 869331006]</td>\n",
       "    </tr>\n",
       "    <tr>\n",
       "      <th>68981</th>\n",
       "      <td>9222310594107555341</td>\n",
       "      <td>[884319001, 884319003]</td>\n",
       "    </tr>\n",
       "    <tr>\n",
       "      <th>68982</th>\n",
       "      <td>9223099843213569889</td>\n",
       "      <td>[903924002]</td>\n",
       "    </tr>\n",
       "    <tr>\n",
       "      <th>68983</th>\n",
       "      <td>9223141695752178477</td>\n",
       "      <td>[914441003]</td>\n",
       "    </tr>\n",
       "  </tbody>\n",
       "</table>\n",
       "<p>68984 rows × 2 columns</p>\n",
       "</div>"
      ],
      "text/plain": [
       "               customer_id                         article_id\n",
       "0     -9223100958908512198  [673677024, 673677027, 785034009]\n",
       "1     -9223002534477110135                        [793699001]\n",
       "2     -9222810895170663723             [892309001, 903306004]\n",
       "3     -9221924794303263774  [708138013, 888343003, 892857002]\n",
       "4     -9221811157628158522                        [891663002]\n",
       "...                    ...                                ...\n",
       "68979  9221607025486275188  [699755071, 699755081, 751994003]\n",
       "68980  9221813808370389952  [562245099, 865929002, 869331006]\n",
       "68981  9222310594107555341             [884319001, 884319003]\n",
       "68982  9223099843213569889                        [903924002]\n",
       "68983  9223141695752178477                        [914441003]\n",
       "\n",
       "[68984 rows x 2 columns]"
      ]
     },
     "execution_count": 5,
     "metadata": {},
     "output_type": "execute_result"
    }
   ],
   "source": [
    "#Apriori treats duplicates as a single occurence\n",
    "train_apri = train.groupby('customer_id')['article_id'].unique().reset_index()\n",
    "train_apri"
   ]
  },
  {
   "cell_type": "code",
   "execution_count": 6,
   "id": "a7e890c4",
   "metadata": {
    "execution": {
     "iopub.execute_input": "2023-11-26T07:46:48.555539Z",
     "iopub.status.busy": "2023-11-26T07:46:48.554934Z",
     "iopub.status.idle": "2023-11-26T07:46:48.568174Z",
     "shell.execute_reply": "2023-11-26T07:46:48.568615Z",
     "shell.execute_reply.started": "2023-11-26T07:23:39.876463Z"
    },
    "papermill": {
     "duration": 0.047271,
     "end_time": "2023-11-26T07:46:48.568801",
     "exception": false,
     "start_time": "2023-11-26T07:46:48.521530",
     "status": "completed"
    },
    "tags": []
   },
   "outputs": [],
   "source": [
    "from mlxtend.preprocessing import TransactionEncoder\n",
    "te = TransactionEncoder()"
   ]
  },
  {
   "cell_type": "code",
   "execution_count": 7,
   "id": "207f6d84",
   "metadata": {
    "execution": {
     "iopub.execute_input": "2023-11-26T07:46:48.634136Z",
     "iopub.status.busy": "2023-11-26T07:46:48.633500Z",
     "iopub.status.idle": "2023-11-26T07:46:49.411541Z",
     "shell.execute_reply": "2023-11-26T07:46:49.412052Z",
     "shell.execute_reply.started": "2023-11-26T07:23:39.882499Z"
    },
    "papermill": {
     "duration": 0.812979,
     "end_time": "2023-11-26T07:46:49.412216",
     "exception": false,
     "start_time": "2023-11-26T07:46:48.599237",
     "status": "completed"
    },
    "tags": []
   },
   "outputs": [
    {
     "data": {
      "text/html": [
       "<div>\n",
       "<style scoped>\n",
       "    .dataframe tbody tr th:only-of-type {\n",
       "        vertical-align: middle;\n",
       "    }\n",
       "\n",
       "    .dataframe tbody tr th {\n",
       "        vertical-align: top;\n",
       "    }\n",
       "\n",
       "    .dataframe thead th {\n",
       "        text-align: right;\n",
       "    }\n",
       "</style>\n",
       "<table border=\"1\" class=\"dataframe\">\n",
       "  <thead>\n",
       "    <tr style=\"text-align: right;\">\n",
       "      <th></th>\n",
       "      <th>108775044</th>\n",
       "      <th>111565001</th>\n",
       "      <th>111586001</th>\n",
       "      <th>111593001</th>\n",
       "      <th>111609001</th>\n",
       "      <th>123173001</th>\n",
       "      <th>129085001</th>\n",
       "      <th>129085027</th>\n",
       "      <th>130035001</th>\n",
       "      <th>144993001</th>\n",
       "      <th>...</th>\n",
       "      <th>948152002</th>\n",
       "      <th>949198001</th>\n",
       "      <th>949551001</th>\n",
       "      <th>949551002</th>\n",
       "      <th>949594001</th>\n",
       "      <th>952267001</th>\n",
       "      <th>952938001</th>\n",
       "      <th>953450001</th>\n",
       "      <th>953763001</th>\n",
       "      <th>956217002</th>\n",
       "    </tr>\n",
       "  </thead>\n",
       "  <tbody>\n",
       "    <tr>\n",
       "      <th>0</th>\n",
       "      <td>False</td>\n",
       "      <td>False</td>\n",
       "      <td>False</td>\n",
       "      <td>False</td>\n",
       "      <td>False</td>\n",
       "      <td>False</td>\n",
       "      <td>False</td>\n",
       "      <td>False</td>\n",
       "      <td>False</td>\n",
       "      <td>False</td>\n",
       "      <td>...</td>\n",
       "      <td>False</td>\n",
       "      <td>False</td>\n",
       "      <td>False</td>\n",
       "      <td>False</td>\n",
       "      <td>False</td>\n",
       "      <td>False</td>\n",
       "      <td>False</td>\n",
       "      <td>False</td>\n",
       "      <td>False</td>\n",
       "      <td>False</td>\n",
       "    </tr>\n",
       "    <tr>\n",
       "      <th>1</th>\n",
       "      <td>False</td>\n",
       "      <td>False</td>\n",
       "      <td>False</td>\n",
       "      <td>False</td>\n",
       "      <td>False</td>\n",
       "      <td>False</td>\n",
       "      <td>False</td>\n",
       "      <td>False</td>\n",
       "      <td>False</td>\n",
       "      <td>False</td>\n",
       "      <td>...</td>\n",
       "      <td>False</td>\n",
       "      <td>False</td>\n",
       "      <td>False</td>\n",
       "      <td>False</td>\n",
       "      <td>False</td>\n",
       "      <td>False</td>\n",
       "      <td>False</td>\n",
       "      <td>False</td>\n",
       "      <td>False</td>\n",
       "      <td>False</td>\n",
       "    </tr>\n",
       "    <tr>\n",
       "      <th>2</th>\n",
       "      <td>False</td>\n",
       "      <td>False</td>\n",
       "      <td>False</td>\n",
       "      <td>False</td>\n",
       "      <td>False</td>\n",
       "      <td>False</td>\n",
       "      <td>False</td>\n",
       "      <td>False</td>\n",
       "      <td>False</td>\n",
       "      <td>False</td>\n",
       "      <td>...</td>\n",
       "      <td>False</td>\n",
       "      <td>False</td>\n",
       "      <td>False</td>\n",
       "      <td>False</td>\n",
       "      <td>False</td>\n",
       "      <td>False</td>\n",
       "      <td>False</td>\n",
       "      <td>False</td>\n",
       "      <td>False</td>\n",
       "      <td>False</td>\n",
       "    </tr>\n",
       "    <tr>\n",
       "      <th>3</th>\n",
       "      <td>False</td>\n",
       "      <td>False</td>\n",
       "      <td>False</td>\n",
       "      <td>False</td>\n",
       "      <td>False</td>\n",
       "      <td>False</td>\n",
       "      <td>False</td>\n",
       "      <td>False</td>\n",
       "      <td>False</td>\n",
       "      <td>False</td>\n",
       "      <td>...</td>\n",
       "      <td>False</td>\n",
       "      <td>False</td>\n",
       "      <td>False</td>\n",
       "      <td>False</td>\n",
       "      <td>False</td>\n",
       "      <td>False</td>\n",
       "      <td>False</td>\n",
       "      <td>False</td>\n",
       "      <td>False</td>\n",
       "      <td>False</td>\n",
       "    </tr>\n",
       "    <tr>\n",
       "      <th>4</th>\n",
       "      <td>False</td>\n",
       "      <td>False</td>\n",
       "      <td>False</td>\n",
       "      <td>False</td>\n",
       "      <td>False</td>\n",
       "      <td>False</td>\n",
       "      <td>False</td>\n",
       "      <td>False</td>\n",
       "      <td>False</td>\n",
       "      <td>False</td>\n",
       "      <td>...</td>\n",
       "      <td>False</td>\n",
       "      <td>False</td>\n",
       "      <td>False</td>\n",
       "      <td>False</td>\n",
       "      <td>False</td>\n",
       "      <td>False</td>\n",
       "      <td>False</td>\n",
       "      <td>False</td>\n",
       "      <td>False</td>\n",
       "      <td>False</td>\n",
       "    </tr>\n",
       "  </tbody>\n",
       "</table>\n",
       "<p>5 rows × 17986 columns</p>\n",
       "</div>"
      ],
      "text/plain": [
       "   108775044  111565001  111586001  111593001  111609001  123173001  \\\n",
       "0      False      False      False      False      False      False   \n",
       "1      False      False      False      False      False      False   \n",
       "2      False      False      False      False      False      False   \n",
       "3      False      False      False      False      False      False   \n",
       "4      False      False      False      False      False      False   \n",
       "\n",
       "   129085001  129085027  130035001  144993001  ...  948152002  949198001  \\\n",
       "0      False      False      False      False  ...      False      False   \n",
       "1      False      False      False      False  ...      False      False   \n",
       "2      False      False      False      False  ...      False      False   \n",
       "3      False      False      False      False  ...      False      False   \n",
       "4      False      False      False      False  ...      False      False   \n",
       "\n",
       "   949551001  949551002  949594001  952267001  952938001  953450001  \\\n",
       "0      False      False      False      False      False      False   \n",
       "1      False      False      False      False      False      False   \n",
       "2      False      False      False      False      False      False   \n",
       "3      False      False      False      False      False      False   \n",
       "4      False      False      False      False      False      False   \n",
       "\n",
       "   953763001  956217002  \n",
       "0      False      False  \n",
       "1      False      False  \n",
       "2      False      False  \n",
       "3      False      False  \n",
       "4      False      False  \n",
       "\n",
       "[5 rows x 17986 columns]"
      ]
     },
     "execution_count": 7,
     "metadata": {},
     "output_type": "execute_result"
    }
   ],
   "source": [
    "te.fit(train_apri['article_id'].to_pandas())\n",
    "orders_1hot = te.transform(train_apri['article_id'].to_pandas())\n",
    "\n",
    "orders_1hot = pd.DataFrame(orders_1hot, columns =te.columns_)\n",
    "orders_1hot.head()"
   ]
  },
  {
   "cell_type": "code",
   "execution_count": 8,
   "id": "530b98cf",
   "metadata": {
    "execution": {
     "iopub.execute_input": "2023-11-26T07:46:49.482498Z",
     "iopub.status.busy": "2023-11-26T07:46:49.481602Z",
     "iopub.status.idle": "2023-11-26T07:46:49.491011Z",
     "shell.execute_reply": "2023-11-26T07:46:49.490314Z",
     "shell.execute_reply.started": "2023-11-26T07:23:40.674248Z"
    },
    "papermill": {
     "duration": 0.047856,
     "end_time": "2023-11-26T07:46:49.491184",
     "exception": false,
     "start_time": "2023-11-26T07:46:49.443328",
     "status": "completed"
    },
    "tags": []
   },
   "outputs": [],
   "source": [
    "from mlxtend.frequent_patterns import apriori"
   ]
  },
  {
   "cell_type": "code",
   "execution_count": 9,
   "id": "f2acdef7",
   "metadata": {
    "execution": {
     "iopub.execute_input": "2023-11-26T07:46:49.580129Z",
     "iopub.status.busy": "2023-11-26T07:46:49.579147Z",
     "iopub.status.idle": "2023-11-26T07:46:55.531692Z",
     "shell.execute_reply": "2023-11-26T07:46:55.531099Z",
     "shell.execute_reply.started": "2023-11-26T07:23:40.681521Z"
    },
    "papermill": {
     "duration": 6.002125,
     "end_time": "2023-11-26T07:46:55.531859",
     "exception": false,
     "start_time": "2023-11-26T07:46:49.529734",
     "status": "completed"
    },
    "tags": []
   },
   "outputs": [],
   "source": [
    "is_ap = apriori(orders_1hot, min_support=0.003, max_len=2, use_colnames=True)"
   ]
  },
  {
   "cell_type": "code",
   "execution_count": 10,
   "id": "c6476164",
   "metadata": {
    "execution": {
     "iopub.execute_input": "2023-11-26T07:46:55.610814Z",
     "iopub.status.busy": "2023-11-26T07:46:55.609965Z",
     "iopub.status.idle": "2023-11-26T07:46:55.628235Z",
     "shell.execute_reply": "2023-11-26T07:46:55.627727Z",
     "shell.execute_reply.started": "2023-11-26T07:23:46.745764Z"
    },
    "papermill": {
     "duration": 0.063277,
     "end_time": "2023-11-26T07:46:55.628362",
     "exception": false,
     "start_time": "2023-11-26T07:46:55.565085",
     "status": "completed"
    },
    "tags": []
   },
   "outputs": [
    {
     "data": {
      "text/html": [
       "<div>\n",
       "<style scoped>\n",
       "    .dataframe tbody tr th:only-of-type {\n",
       "        vertical-align: middle;\n",
       "    }\n",
       "\n",
       "    .dataframe tbody tr th {\n",
       "        vertical-align: top;\n",
       "    }\n",
       "\n",
       "    .dataframe thead th {\n",
       "        text-align: right;\n",
       "    }\n",
       "</style>\n",
       "<table border=\"1\" class=\"dataframe\">\n",
       "  <thead>\n",
       "    <tr style=\"text-align: right;\">\n",
       "      <th></th>\n",
       "      <th>support</th>\n",
       "      <th>itemsets</th>\n",
       "    </tr>\n",
       "  </thead>\n",
       "  <tbody>\n",
       "    <tr>\n",
       "      <th>58</th>\n",
       "      <td>0.003001</td>\n",
       "      <td>(914441001)</td>\n",
       "    </tr>\n",
       "    <tr>\n",
       "      <th>7</th>\n",
       "      <td>0.003030</td>\n",
       "      <td>(573085043)</td>\n",
       "    </tr>\n",
       "    <tr>\n",
       "      <th>55</th>\n",
       "      <td>0.003030</td>\n",
       "      <td>(910601002)</td>\n",
       "    </tr>\n",
       "    <tr>\n",
       "      <th>3</th>\n",
       "      <td>0.003059</td>\n",
       "      <td>(456163060)</td>\n",
       "    </tr>\n",
       "    <tr>\n",
       "      <th>21</th>\n",
       "      <td>0.003059</td>\n",
       "      <td>(781613006)</td>\n",
       "    </tr>\n",
       "    <tr>\n",
       "      <th>...</th>\n",
       "      <td>...</td>\n",
       "      <td>...</td>\n",
       "    </tr>\n",
       "    <tr>\n",
       "      <th>34</th>\n",
       "      <td>0.006973</td>\n",
       "      <td>(866731001)</td>\n",
       "    </tr>\n",
       "    <tr>\n",
       "      <th>68</th>\n",
       "      <td>0.007437</td>\n",
       "      <td>(923758001)</td>\n",
       "    </tr>\n",
       "    <tr>\n",
       "      <th>70</th>\n",
       "      <td>0.007726</td>\n",
       "      <td>(924243002)</td>\n",
       "    </tr>\n",
       "    <tr>\n",
       "      <th>64</th>\n",
       "      <td>0.008248</td>\n",
       "      <td>(918522001)</td>\n",
       "    </tr>\n",
       "    <tr>\n",
       "      <th>69</th>\n",
       "      <td>0.011061</td>\n",
       "      <td>(924243001)</td>\n",
       "    </tr>\n",
       "  </tbody>\n",
       "</table>\n",
       "<p>77 rows × 2 columns</p>\n",
       "</div>"
      ],
      "text/plain": [
       "     support     itemsets\n",
       "58  0.003001  (914441001)\n",
       "7   0.003030  (573085043)\n",
       "55  0.003030  (910601002)\n",
       "3   0.003059  (456163060)\n",
       "21  0.003059  (781613006)\n",
       "..       ...          ...\n",
       "34  0.006973  (866731001)\n",
       "68  0.007437  (923758001)\n",
       "70  0.007726  (924243002)\n",
       "64  0.008248  (918522001)\n",
       "69  0.011061  (924243001)\n",
       "\n",
       "[77 rows x 2 columns]"
      ]
     },
     "execution_count": 10,
     "metadata": {},
     "output_type": "execute_result"
    }
   ],
   "source": [
    "is_ap.sort_values(by=['support'])"
   ]
  },
  {
   "cell_type": "markdown",
   "id": "e761df9f",
   "metadata": {
    "papermill": {
     "duration": 0.033113,
     "end_time": "2023-11-26T07:46:55.693421",
     "exception": false,
     "start_time": "2023-11-26T07:46:55.660308",
     "status": "completed"
    },
    "tags": []
   },
   "source": [
    "# Calculate Association Rules"
   ]
  },
  {
   "cell_type": "code",
   "execution_count": 11,
   "id": "251d430d",
   "metadata": {
    "execution": {
     "iopub.execute_input": "2023-11-26T07:46:55.761251Z",
     "iopub.status.busy": "2023-11-26T07:46:55.760401Z",
     "iopub.status.idle": "2023-11-26T07:46:55.763024Z",
     "shell.execute_reply": "2023-11-26T07:46:55.762393Z",
     "shell.execute_reply.started": "2023-11-26T07:23:46.764335Z"
    },
    "papermill": {
     "duration": 0.038218,
     "end_time": "2023-11-26T07:46:55.763146",
     "exception": false,
     "start_time": "2023-11-26T07:46:55.724928",
     "status": "completed"
    },
    "tags": []
   },
   "outputs": [],
   "source": [
    "from mlxtend.frequent_patterns import association_rules"
   ]
  },
  {
   "cell_type": "code",
   "execution_count": 12,
   "id": "a2837ee9",
   "metadata": {
    "execution": {
     "iopub.execute_input": "2023-11-26T07:46:55.840081Z",
     "iopub.status.busy": "2023-11-26T07:46:55.839278Z",
     "iopub.status.idle": "2023-11-26T07:46:55.842682Z",
     "shell.execute_reply": "2023-11-26T07:46:55.842109Z",
     "shell.execute_reply.started": "2023-11-26T07:23:46.770830Z"
    },
    "papermill": {
     "duration": 0.048194,
     "end_time": "2023-11-26T07:46:55.842820",
     "exception": false,
     "start_time": "2023-11-26T07:46:55.794626",
     "status": "completed"
    },
    "tags": []
   },
   "outputs": [
    {
     "data": {
      "text/html": [
       "<div>\n",
       "<style scoped>\n",
       "    .dataframe tbody tr th:only-of-type {\n",
       "        vertical-align: middle;\n",
       "    }\n",
       "\n",
       "    .dataframe tbody tr th {\n",
       "        vertical-align: top;\n",
       "    }\n",
       "\n",
       "    .dataframe thead th {\n",
       "        text-align: right;\n",
       "    }\n",
       "</style>\n",
       "<table border=\"1\" class=\"dataframe\">\n",
       "  <thead>\n",
       "    <tr style=\"text-align: right;\">\n",
       "      <th></th>\n",
       "      <th>support</th>\n",
       "      <th>itemsets</th>\n",
       "    </tr>\n",
       "  </thead>\n",
       "  <tbody>\n",
       "    <tr>\n",
       "      <th>0</th>\n",
       "      <td>0.003233</td>\n",
       "      <td>(372860001)</td>\n",
       "    </tr>\n",
       "    <tr>\n",
       "      <th>1</th>\n",
       "      <td>0.003131</td>\n",
       "      <td>(372860002)</td>\n",
       "    </tr>\n",
       "    <tr>\n",
       "      <th>2</th>\n",
       "      <td>0.005624</td>\n",
       "      <td>(448509014)</td>\n",
       "    </tr>\n",
       "    <tr>\n",
       "      <th>3</th>\n",
       "      <td>0.003059</td>\n",
       "      <td>(456163060)</td>\n",
       "    </tr>\n",
       "    <tr>\n",
       "      <th>4</th>\n",
       "      <td>0.003349</td>\n",
       "      <td>(456163086)</td>\n",
       "    </tr>\n",
       "    <tr>\n",
       "      <th>...</th>\n",
       "      <td>...</td>\n",
       "      <td>...</td>\n",
       "    </tr>\n",
       "    <tr>\n",
       "      <th>72</th>\n",
       "      <td>0.004088</td>\n",
       "      <td>(929165002)</td>\n",
       "    </tr>\n",
       "    <tr>\n",
       "      <th>73</th>\n",
       "      <td>0.004566</td>\n",
       "      <td>(929275001)</td>\n",
       "    </tr>\n",
       "    <tr>\n",
       "      <th>74</th>\n",
       "      <td>0.004247</td>\n",
       "      <td>(930380001)</td>\n",
       "    </tr>\n",
       "    <tr>\n",
       "      <th>75</th>\n",
       "      <td>0.004813</td>\n",
       "      <td>(934835001)</td>\n",
       "    </tr>\n",
       "    <tr>\n",
       "      <th>76</th>\n",
       "      <td>0.004929</td>\n",
       "      <td>(935541001)</td>\n",
       "    </tr>\n",
       "  </tbody>\n",
       "</table>\n",
       "<p>77 rows × 2 columns</p>\n",
       "</div>"
      ],
      "text/plain": [
       "     support     itemsets\n",
       "0   0.003233  (372860001)\n",
       "1   0.003131  (372860002)\n",
       "2   0.005624  (448509014)\n",
       "3   0.003059  (456163060)\n",
       "4   0.003349  (456163086)\n",
       "..       ...          ...\n",
       "72  0.004088  (929165002)\n",
       "73  0.004566  (929275001)\n",
       "74  0.004247  (930380001)\n",
       "75  0.004813  (934835001)\n",
       "76  0.004929  (935541001)\n",
       "\n",
       "[77 rows x 2 columns]"
      ]
     },
     "execution_count": 12,
     "metadata": {},
     "output_type": "execute_result"
    }
   ],
   "source": [
    "is_ap"
   ]
  },
  {
   "cell_type": "code",
   "execution_count": 13,
   "id": "52414c1f",
   "metadata": {
    "execution": {
     "iopub.execute_input": "2023-11-26T07:46:55.918740Z",
     "iopub.status.busy": "2023-11-26T07:46:55.918090Z",
     "iopub.status.idle": "2023-11-26T07:46:55.921314Z",
     "shell.execute_reply": "2023-11-26T07:46:55.920860Z",
     "shell.execute_reply.started": "2023-11-26T07:23:46.791038Z"
    },
    "papermill": {
     "duration": 0.046175,
     "end_time": "2023-11-26T07:46:55.921442",
     "exception": false,
     "start_time": "2023-11-26T07:46:55.875267",
     "status": "completed"
    },
    "tags": []
   },
   "outputs": [
    {
     "data": {
      "text/html": [
       "<div>\n",
       "<style scoped>\n",
       "    .dataframe tbody tr th:only-of-type {\n",
       "        vertical-align: middle;\n",
       "    }\n",
       "\n",
       "    .dataframe tbody tr th {\n",
       "        vertical-align: top;\n",
       "    }\n",
       "\n",
       "    .dataframe thead th {\n",
       "        text-align: right;\n",
       "    }\n",
       "</style>\n",
       "<table border=\"1\" class=\"dataframe\">\n",
       "  <thead>\n",
       "    <tr style=\"text-align: right;\">\n",
       "      <th></th>\n",
       "      <th>antecedents</th>\n",
       "      <th>consequents</th>\n",
       "      <th>antecedent support</th>\n",
       "      <th>consequent support</th>\n",
       "      <th>support</th>\n",
       "      <th>confidence</th>\n",
       "      <th>lift</th>\n",
       "      <th>leverage</th>\n",
       "      <th>conviction</th>\n",
       "    </tr>\n",
       "  </thead>\n",
       "  <tbody>\n",
       "  </tbody>\n",
       "</table>\n",
       "</div>"
      ],
      "text/plain": [
       "Empty DataFrame\n",
       "Columns: [antecedents, consequents, antecedent support, consequent support, support, confidence, lift, leverage, conviction]\n",
       "Index: []"
      ]
     },
     "execution_count": 13,
     "metadata": {},
     "output_type": "execute_result"
    }
   ],
   "source": [
    "# Assuming is_ap contains frequent itemsets from Apriori\n",
    "rules = association_rules(is_ap, metric=\"lift\")\n",
    "\n",
    "# Print the first few rows of the resulting DataFrame\n",
    "rules.head()"
   ]
  },
  {
   "cell_type": "markdown",
   "id": "3a4045d2",
   "metadata": {
    "papermill": {
     "duration": 0.032359,
     "end_time": "2023-11-26T07:46:55.986330",
     "exception": false,
     "start_time": "2023-11-26T07:46:55.953971",
     "status": "completed"
    },
    "tags": []
   },
   "source": [
    "# Find Each Customer's Last Week of Purchases\n",
    "\n",
    "We will organize our predictions in the same order as our dataframe rows. Later, we'll create the prediction string by summing up the concatenated `article_id` values grouped by customer_id `train.groupby('customer_id').article_id.sum()`."
   ]
  },
  {
   "cell_type": "markdown",
   "id": "9174f433",
   "metadata": {
    "papermill": {
     "duration": 0.032245,
     "end_time": "2023-11-26T07:46:56.051138",
     "exception": false,
     "start_time": "2023-11-26T07:46:56.018893",
     "status": "completed"
    },
    "tags": []
   },
   "source": [
    "# (1) Recommend Most Often Previously Purchased Items\n"
   ]
  },
  {
   "cell_type": "code",
   "execution_count": 14,
   "id": "07677870",
   "metadata": {
    "execution": {
     "iopub.execute_input": "2023-11-26T07:46:56.124304Z",
     "iopub.status.busy": "2023-11-26T07:46:56.123685Z",
     "iopub.status.idle": "2023-11-26T07:46:56.177128Z",
     "shell.execute_reply": "2023-11-26T07:46:56.176498Z",
     "shell.execute_reply.started": "2023-11-26T07:23:46.803560Z"
    },
    "papermill": {
     "duration": 0.093507,
     "end_time": "2023-11-26T07:46:56.177254",
     "exception": false,
     "start_time": "2023-11-26T07:46:56.083747",
     "status": "completed"
    },
    "tags": []
   },
   "outputs": [
    {
     "data": {
      "text/html": [
       "<div>\n",
       "<style scoped>\n",
       "    .dataframe tbody tr th:only-of-type {\n",
       "        vertical-align: middle;\n",
       "    }\n",
       "\n",
       "    .dataframe tbody tr th {\n",
       "        vertical-align: top;\n",
       "    }\n",
       "\n",
       "    .dataframe thead th {\n",
       "        text-align: right;\n",
       "    }\n",
       "</style>\n",
       "<table border=\"1\" class=\"dataframe\">\n",
       "  <thead>\n",
       "    <tr style=\"text-align: right;\">\n",
       "      <th></th>\n",
       "      <th>t_dat</th>\n",
       "      <th>customer_id</th>\n",
       "      <th>article_id</th>\n",
       "      <th>max_dat</th>\n",
       "      <th>diff_dat</th>\n",
       "      <th>ct</th>\n",
       "    </tr>\n",
       "  </thead>\n",
       "  <tbody>\n",
       "    <tr>\n",
       "      <th>64</th>\n",
       "      <td>2020-09-16</td>\n",
       "      <td>-6341822073530655775</td>\n",
       "      <td>685814001</td>\n",
       "      <td>2020-09-16</td>\n",
       "      <td>0</td>\n",
       "      <td>30</td>\n",
       "    </tr>\n",
       "    <tr>\n",
       "      <th>66016</th>\n",
       "      <td>2020-09-18</td>\n",
       "      <td>954634701602309532</td>\n",
       "      <td>895555001</td>\n",
       "      <td>2020-09-18</td>\n",
       "      <td>0</td>\n",
       "      <td>26</td>\n",
       "    </tr>\n",
       "    <tr>\n",
       "      <th>162796</th>\n",
       "      <td>2020-09-21</td>\n",
       "      <td>-1032181102150868027</td>\n",
       "      <td>677930023</td>\n",
       "      <td>2020-09-21</td>\n",
       "      <td>0</td>\n",
       "      <td>25</td>\n",
       "    </tr>\n",
       "    <tr>\n",
       "      <th>77416</th>\n",
       "      <td>2020-09-18</td>\n",
       "      <td>-6439897037483747065</td>\n",
       "      <td>685813003</td>\n",
       "      <td>2020-09-19</td>\n",
       "      <td>1</td>\n",
       "      <td>25</td>\n",
       "    </tr>\n",
       "    <tr>\n",
       "      <th>114984</th>\n",
       "      <td>2020-09-18</td>\n",
       "      <td>6200564461742194660</td>\n",
       "      <td>715624001</td>\n",
       "      <td>2020-09-18</td>\n",
       "      <td>0</td>\n",
       "      <td>20</td>\n",
       "    </tr>\n",
       "  </tbody>\n",
       "</table>\n",
       "</div>"
      ],
      "text/plain": [
       "            t_dat          customer_id  article_id    max_dat  diff_dat  ct\n",
       "64     2020-09-16 -6341822073530655775   685814001 2020-09-16         0  30\n",
       "66016  2020-09-18   954634701602309532   895555001 2020-09-18         0  26\n",
       "162796 2020-09-21 -1032181102150868027   677930023 2020-09-21         0  25\n",
       "77416  2020-09-18 -6439897037483747065   685813003 2020-09-19         1  25\n",
       "114984 2020-09-18  6200564461742194660   715624001 2020-09-18         0  20"
      ]
     },
     "execution_count": 14,
     "metadata": {},
     "output_type": "execute_result"
    }
   ],
   "source": [
    "# Group by 'customer_id' and 'article_id' and count occurrences\n",
    "tmp = train.groupby(['customer_id','article_id'])['t_dat'].agg('count').reset_index()\n",
    "tmp.columns = ['customer_id','article_id','ct']\n",
    "# Merge the count information back into the original DataFrame\n",
    "train = train.merge(tmp,on=['customer_id','article_id'],how='left')\n",
    "# Sort the DataFrame based on count and date in descending order\n",
    "train = train.sort_values(['ct','t_dat'],ascending=False)\n",
    "# Drop duplicate rows based on 'customer_id' and 'article_id', keeping the first occurrence (highest count)\n",
    "train = train.drop_duplicates(['customer_id','article_id'])\n",
    "train = train.sort_values(['ct','t_dat'],ascending=False)\n",
    "train.head()"
   ]
  },
  {
   "cell_type": "markdown",
   "id": "59495bcc",
   "metadata": {
    "papermill": {
     "duration": 0.033329,
     "end_time": "2023-11-26T07:46:56.244155",
     "exception": false,
     "start_time": "2023-11-26T07:46:56.210826",
     "status": "completed"
    },
    "tags": []
   },
   "source": [
    "# (2) Recommend Items Purchased Together\n"
   ]
  },
  {
   "cell_type": "code",
   "execution_count": 15,
   "id": "05806302",
   "metadata": {
    "execution": {
     "iopub.execute_input": "2023-11-26T07:46:56.316272Z",
     "iopub.status.busy": "2023-11-26T07:46:56.315612Z",
     "iopub.status.idle": "2023-11-26T07:46:56.571857Z",
     "shell.execute_reply": "2023-11-26T07:46:56.571325Z",
     "shell.execute_reply.started": "2023-11-26T07:23:46.863722Z"
    },
    "papermill": {
     "duration": 0.294475,
     "end_time": "2023-11-26T07:46:56.572009",
     "exception": false,
     "start_time": "2023-11-26T07:46:56.277534",
     "status": "completed"
    },
    "tags": []
   },
   "outputs": [],
   "source": [
    "# USE PANDAS TO MAP COLUMN WITH DICTIONARY\n",
    "import pandas as pd, numpy as np\n",
    "train = train.to_pandas()\n",
    "pairs = np.load('../input/hmitempairs/pairs_cudf.npy',allow_pickle=True).item()\n",
    "train['article_id2'] = train.article_id.map(pairs)\n"
   ]
  },
  {
   "cell_type": "code",
   "execution_count": 16,
   "id": "76ed473f",
   "metadata": {
    "execution": {
     "iopub.execute_input": "2023-11-26T07:46:56.646824Z",
     "iopub.status.busy": "2023-11-26T07:46:56.646202Z",
     "iopub.status.idle": "2023-11-26T07:46:56.673374Z",
     "shell.execute_reply": "2023-11-26T07:46:56.672771Z",
     "shell.execute_reply.started": "2023-11-26T07:23:47.132347Z"
    },
    "papermill": {
     "duration": 0.067418,
     "end_time": "2023-11-26T07:46:56.673509",
     "exception": false,
     "start_time": "2023-11-26T07:46:56.606091",
     "status": "completed"
    },
    "tags": []
   },
   "outputs": [],
   "source": [
    "# RECOMMENDATION OF PAIRED ITEMS\n",
    "# Create a new DataFrame 'train2' with relevant columns\n",
    "train2 = train[['customer_id', 'article_id2']].copy()\n",
    "\n",
    "# Filter out rows where 'article_id2' is not null\n",
    "train2 = train2.loc[train2['article_id2'].notnull()]\n",
    "\n",
    "# Drop duplicates based on 'customer_id' and 'article_id2'\n",
    "train2 = train2.drop_duplicates(['customer_id', 'article_id2'])\n",
    "\n",
    "# Rename the 'article_id2' column back to 'article_id'\n",
    "train2 = train2.rename({'article_id2': 'article_id'}, axis=1)"
   ]
  },
  {
   "cell_type": "code",
   "execution_count": 17,
   "id": "837b1b84",
   "metadata": {
    "execution": {
     "iopub.execute_input": "2023-11-26T07:46:56.750063Z",
     "iopub.status.busy": "2023-11-26T07:46:56.749432Z",
     "iopub.status.idle": "2023-11-26T07:46:56.786669Z",
     "shell.execute_reply": "2023-11-26T07:46:56.787149Z",
     "shell.execute_reply.started": "2023-11-26T07:23:47.165032Z"
    },
    "papermill": {
     "duration": 0.07882,
     "end_time": "2023-11-26T07:46:56.787324",
     "exception": false,
     "start_time": "2023-11-26T07:46:56.708504",
     "status": "completed"
    },
    "tags": []
   },
   "outputs": [],
   "source": [
    "# CONCATENATE PAIRED ITEM RECOMMENDATION AFTER PREVIOUS PURCHASED RECOMMENDATIONS\n",
    "# Select relevant columns from the original DataFrame 'train'\n",
    "train = train[['customer_id', 'article_id']]\n",
    "\n",
    "# Concatenate recommendations for paired items ('train2') with previous purchased recommendations ('train')\n",
    "train = pd.concat([train, train2], axis=0, ignore_index=True)\n",
    "\n",
    "# Convert 'article_id' to integer type and drop duplicate rows based on 'customer_id' and 'article_id'\n",
    "train['article_id'] = train['article_id'].astype('int32')\n",
    "train = train.drop_duplicates(['customer_id', 'article_id'])"
   ]
  },
  {
   "cell_type": "code",
   "execution_count": 18,
   "id": "f5e9ab02",
   "metadata": {
    "execution": {
     "iopub.execute_input": "2023-11-26T07:46:56.860283Z",
     "iopub.status.busy": "2023-11-26T07:46:56.859632Z",
     "iopub.status.idle": "2023-11-26T07:46:57.425531Z",
     "shell.execute_reply": "2023-11-26T07:46:57.425018Z",
     "shell.execute_reply.started": "2023-11-26T07:23:47.205576Z"
    },
    "papermill": {
     "duration": 0.604632,
     "end_time": "2023-11-26T07:46:57.425660",
     "exception": false,
     "start_time": "2023-11-26T07:46:56.821028",
     "status": "completed"
    },
    "tags": []
   },
   "outputs": [
    {
     "data": {
      "text/html": [
       "<div>\n",
       "<style scoped>\n",
       "    .dataframe tbody tr th:only-of-type {\n",
       "        vertical-align: middle;\n",
       "    }\n",
       "\n",
       "    .dataframe tbody tr th {\n",
       "        vertical-align: top;\n",
       "    }\n",
       "\n",
       "    .dataframe thead th {\n",
       "        text-align: right;\n",
       "    }\n",
       "</style>\n",
       "<table border=\"1\" class=\"dataframe\">\n",
       "  <thead>\n",
       "    <tr style=\"text-align: right;\">\n",
       "      <th></th>\n",
       "      <th>customer_id</th>\n",
       "      <th>prediction</th>\n",
       "    </tr>\n",
       "  </thead>\n",
       "  <tbody>\n",
       "    <tr>\n",
       "      <th>0</th>\n",
       "      <td>-9223100958908512198</td>\n",
       "      <td>0673677024 0673677027 0785034009 0673677002 0...</td>\n",
       "    </tr>\n",
       "    <tr>\n",
       "      <th>1</th>\n",
       "      <td>-9223002534477110135</td>\n",
       "      <td>0793699001 0751542002</td>\n",
       "    </tr>\n",
       "    <tr>\n",
       "      <th>2</th>\n",
       "      <td>-9222810895170663723</td>\n",
       "      <td>0892309001 0903306004 0786187005</td>\n",
       "    </tr>\n",
       "    <tr>\n",
       "      <th>3</th>\n",
       "      <td>-9221924794303263774</td>\n",
       "      <td>0708138013 0888343003 0892857002 0741717002 0...</td>\n",
       "    </tr>\n",
       "    <tr>\n",
       "      <th>4</th>\n",
       "      <td>-9221811157628158522</td>\n",
       "      <td>0891663002 0706016001</td>\n",
       "    </tr>\n",
       "  </tbody>\n",
       "</table>\n",
       "</div>"
      ],
      "text/plain": [
       "           customer_id                                         prediction\n",
       "0 -9223100958908512198   0673677024 0673677027 0785034009 0673677002 0...\n",
       "1 -9223002534477110135                              0793699001 0751542002\n",
       "2 -9222810895170663723                   0892309001 0903306004 0786187005\n",
       "3 -9221924794303263774   0708138013 0888343003 0892857002 0741717002 0...\n",
       "4 -9221811157628158522                              0891663002 0706016001"
      ]
     },
     "execution_count": 18,
     "metadata": {},
     "output_type": "execute_result"
    }
   ],
   "source": [
    "# CONVERT RECOMMENDATIONS INTO SINGLE STRING\n",
    "# Convert 'article_id' to a single string with a leading space '0'\n",
    "train['article_id'] = ' 0' + train['article_id'].astype('str')\n",
    "\n",
    "# Group by 'customer_id' and concatenate 'article_id' strings into a single string\n",
    "preds = cudf.DataFrame(train.groupby('customer_id')['article_id'].sum().reset_index())\n",
    "\n",
    "# Rename columns for clarity\n",
    "preds.columns = ['customer_id', 'prediction']\n",
    "\n",
    "# Print the first few rows of the resulting DataFrame 'preds'\n",
    "preds.head()"
   ]
  },
  {
   "cell_type": "markdown",
   "id": "187fae62",
   "metadata": {
    "papermill": {
     "duration": 0.034268,
     "end_time": "2023-11-26T07:46:57.494118",
     "exception": false,
     "start_time": "2023-11-26T07:46:57.459850",
     "status": "completed"
    },
    "tags": []
   },
   "source": [
    "# (3) Recommend Last Week's Most Popular Items\n"
   ]
  },
  {
   "cell_type": "code",
   "execution_count": 19,
   "id": "6bd54cd5",
   "metadata": {
    "execution": {
     "iopub.execute_input": "2023-11-26T07:46:57.579937Z",
     "iopub.status.busy": "2023-11-26T07:46:57.579247Z",
     "iopub.status.idle": "2023-11-26T07:46:57.829766Z",
     "shell.execute_reply": "2023-11-26T07:46:57.829127Z",
     "shell.execute_reply.started": "2023-11-26T07:23:47.759340Z"
    },
    "papermill": {
     "duration": 0.299582,
     "end_time": "2023-11-26T07:46:57.829917",
     "exception": false,
     "start_time": "2023-11-26T07:46:57.530335",
     "status": "completed"
    },
    "tags": []
   },
   "outputs": [
    {
     "name": "stdout",
     "output_type": "stream",
     "text": [
      "Last week's top 12 popular items:\n",
      " 0924243001 0924243002 0918522001 0923758001 0866731001 0909370001 0751471001 0915529003 0915529005 0448509014 0762846027 0714790020\n"
     ]
    }
   ],
   "source": [
    "# Read the Parquet file into a cuDF DataFrame\n",
    "train = cudf.read_parquet('train.pqt')\n",
    "\n",
    "# Convert the 't_dat' column to datetime\n",
    "train.t_dat = cudf.to_datetime(train.t_dat)\n",
    "\n",
    "# Filter the data for entries on or after '2020-09-16'\n",
    "train = train.loc[train.t_dat >= cudf.to_datetime('2020-09-16')]\n",
    "\n",
    "# Identify the top 12 popular items based on their occurrence count\n",
    "top12 = ' 0' + ' 0'.join(train.article_id.value_counts().to_pandas().index.astype('str')[:12])\n",
    "\n",
    "# Print the result\n",
    "print(\"Last week's top 12 popular items:\")\n",
    "print(top12)"
   ]
  },
  {
   "cell_type": "markdown",
   "id": "fd95079f",
   "metadata": {
    "papermill": {
     "duration": 0.034383,
     "end_time": "2023-11-26T07:46:57.898582",
     "exception": false,
     "start_time": "2023-11-26T07:46:57.864199",
     "status": "completed"
    },
    "tags": []
   },
   "source": [
    "# Write Submission CSV\n",
    "We will merge our predictions onto `sample_submission.csv` and submit to Kaggle."
   ]
  },
  {
   "cell_type": "code",
   "execution_count": 20,
   "id": "1b391aec",
   "metadata": {
    "execution": {
     "iopub.execute_input": "2023-11-26T07:46:57.974758Z",
     "iopub.status.busy": "2023-11-26T07:46:57.974105Z",
     "iopub.status.idle": "2023-11-26T07:47:02.447481Z",
     "shell.execute_reply": "2023-11-26T07:47:02.446763Z",
     "shell.execute_reply.started": "2023-11-26T07:37:56.940293Z"
    },
    "papermill": {
     "duration": 4.514639,
     "end_time": "2023-11-26T07:47:02.447632",
     "exception": false,
     "start_time": "2023-11-26T07:46:57.932993",
     "status": "completed"
    },
    "tags": []
   },
   "outputs": [
    {
     "data": {
      "text/html": [
       "<div>\n",
       "<style scoped>\n",
       "    .dataframe tbody tr th:only-of-type {\n",
       "        vertical-align: middle;\n",
       "    }\n",
       "\n",
       "    .dataframe tbody tr th {\n",
       "        vertical-align: top;\n",
       "    }\n",
       "\n",
       "    .dataframe thead th {\n",
       "        text-align: right;\n",
       "    }\n",
       "</style>\n",
       "<table border=\"1\" class=\"dataframe\">\n",
       "  <thead>\n",
       "    <tr style=\"text-align: right;\">\n",
       "      <th></th>\n",
       "      <th>customer_id</th>\n",
       "      <th>prediction</th>\n",
       "    </tr>\n",
       "  </thead>\n",
       "  <tbody>\n",
       "    <tr>\n",
       "      <th>0</th>\n",
       "      <td>031eae8665c6b7b97a6eb6376d57c46c439bb28ea7b591...</td>\n",
       "      <td>0924243001 0924243002 0918522001 0923758001 08...</td>\n",
       "    </tr>\n",
       "    <tr>\n",
       "      <th>1</th>\n",
       "      <td>031f5f30a4490ca8cd5c963338086d633d782b18924d31...</td>\n",
       "      <td>0924243001 0924243002 0918522001 0923758001 08...</td>\n",
       "    </tr>\n",
       "    <tr>\n",
       "      <th>2</th>\n",
       "      <td>031f0e83c36d2d8dd8bfd924059acb655b45ec96c9e398...</td>\n",
       "      <td>0924243001 0924243002 0918522001 0923758001 08...</td>\n",
       "    </tr>\n",
       "    <tr>\n",
       "      <th>3</th>\n",
       "      <td>031fc7ec750c9be3141b29b8a80e71cd064ff5c3c7699f...</td>\n",
       "      <td>0924243001 0924243002 0918522001 0923758001 08...</td>\n",
       "    </tr>\n",
       "    <tr>\n",
       "      <th>4</th>\n",
       "      <td>031ec24658c051297b7c53e3dc86d3a3799bfce699d790...</td>\n",
       "      <td>0924243001 0924243002 0918522001 0923758001 08...</td>\n",
       "    </tr>\n",
       "  </tbody>\n",
       "</table>\n",
       "</div>"
      ],
      "text/plain": [
       "                                         customer_id  \\\n",
       "0  031eae8665c6b7b97a6eb6376d57c46c439bb28ea7b591...   \n",
       "1  031f5f30a4490ca8cd5c963338086d633d782b18924d31...   \n",
       "2  031f0e83c36d2d8dd8bfd924059acb655b45ec96c9e398...   \n",
       "3  031fc7ec750c9be3141b29b8a80e71cd064ff5c3c7699f...   \n",
       "4  031ec24658c051297b7c53e3dc86d3a3799bfce699d790...   \n",
       "\n",
       "                                          prediction  \n",
       "0  0924243001 0924243002 0918522001 0923758001 08...  \n",
       "1  0924243001 0924243002 0918522001 0923758001 08...  \n",
       "2  0924243001 0924243002 0918522001 0923758001 08...  \n",
       "3  0924243001 0924243002 0918522001 0923758001 08...  \n",
       "4  0924243001 0924243002 0918522001 0923758001 08...  "
      ]
     },
     "execution_count": 20,
     "metadata": {},
     "output_type": "execute_result"
    }
   ],
   "source": [
    "# Read the sample submission file into a cuDF DataFrame\n",
    "sub = cudf.read_csv('../input/h-and-m-personalized-fashion-recommendations/sample_submission.csv')\n",
    "sub = sub[['customer_id']]\n",
    "# Extract the last 16 characters from 'customer_id', convert to int64, and create a new column 'customer_id_2'\n",
    "sub['customer_id_2'] = sub['customer_id'].str[-16:].str.hex_to_int().astype('int64')\n",
    "# Merge the 'sub' DataFrame with the 'preds' DataFrame based on 'customer_id_2', filling NaN values with empty strings\n",
    "sub = sub.merge(preds.rename({'customer_id':'customer_id_2'},axis=1),\\\n",
    "    on='customer_id_2', how='left').fillna('')\n",
    "# Delete the 'customer_id_2' column\n",
    "del sub['customer_id_2']\n",
    "# Concatenate 'prediction' with 'top12'\n",
    "sub.prediction = sub.prediction + top12\n",
    "# Strip leading and trailing whitespaces from 'prediction'\n",
    "sub.prediction = sub.prediction.str.strip()\n",
    "# Limit the length of 'prediction' to 131 character\n",
    "sub.prediction = sub.prediction.str[:131]\n",
    "# Save the final submission file to 'submission.csv'\n",
    "sub.to_csv(f'submission.csv',index=False)\n",
    "sub.head()"
   ]
  }
 ],
 "metadata": {
  "kaggle": {
   "accelerator": "gpu",
   "dataSources": [
    {
     "databundleVersionId": 3103714,
     "sourceId": 31254,
     "sourceType": "competition"
    },
    {
     "datasetId": 1945136,
     "sourceId": 3205676,
     "sourceType": "datasetVersion"
    }
   ],
   "dockerImageVersionId": 30163,
   "isGpuEnabled": true,
   "isInternetEnabled": false,
   "language": "python",
   "sourceType": "notebook"
  },
  "kernelspec": {
   "display_name": "Python 3",
   "language": "python",
   "name": "python3"
  },
  "language_info": {
   "codemirror_mode": {
    "name": "ipython",
    "version": 3
   },
   "file_extension": ".py",
   "mimetype": "text/x-python",
   "name": "python",
   "nbconvert_exporter": "python",
   "pygments_lexer": "ipython3",
   "version": "3.7.12"
  },
  "papermill": {
   "default_parameters": {},
   "duration": 67.412145,
   "end_time": "2023-11-26T07:47:03.699805",
   "environment_variables": {},
   "exception": null,
   "input_path": "__notebook__.ipynb",
   "output_path": "__notebook__.ipynb",
   "parameters": {},
   "start_time": "2023-11-26T07:45:56.287660",
   "version": "2.3.3"
  }
 },
 "nbformat": 4,
 "nbformat_minor": 5
}
